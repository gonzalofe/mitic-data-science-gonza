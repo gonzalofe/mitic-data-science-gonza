{
 "cells": [
  {
   "cell_type": "markdown",
   "metadata": {},
   "source": [
    "### Análisis y Predicción de Ventas en una Tienda de Retail (Core)\n",
    "Parte III: Transformación y Análisis Avanzado de Datos con Pandas"
   ]
  },
  {
   "cell_type": "markdown",
   "metadata": {},
   "source": [
    "En esta tercera parte del proyecto, continuaremos trabajando con el dataset de ventas que utilizamos en la Parte II. En esta fase, aplicaremos técnicas avanzadas de transformación y análisis de datos utilizando las nuevas habilidades adquiridas en Pandas, tales como agrupaciones complejas y el uso del método apply. Nos enfocaremos en extraer insights más profundos y preparar los datos para futuros análisis y modelos predictivos."
   ]
  },
  {
   "cell_type": "markdown",
   "metadata": {},
   "source": [
    "### Transformación de Datos\n",
    "Crea nuevas columnas: Basándonos en los datos existentes, crea nuevas columnas que sean útiles para el análisis. Por ejemplo, calcula el ingreso total por venta y normaliza las ventas."
   ]
  },
  {
   "cell_type": "code",
   "execution_count": 11,
   "metadata": {},
   "outputs": [
    {
     "data": {
      "text/html": [
       "<div>\n",
       "<style scoped>\n",
       "    .dataframe tbody tr th:only-of-type {\n",
       "        vertical-align: middle;\n",
       "    }\n",
       "\n",
       "    .dataframe tbody tr th {\n",
       "        vertical-align: top;\n",
       "    }\n",
       "\n",
       "    .dataframe thead th {\n",
       "        text-align: right;\n",
       "    }\n",
       "</style>\n",
       "<table border=\"1\" class=\"dataframe\">\n",
       "  <thead>\n",
       "    <tr style=\"text-align: right;\">\n",
       "      <th></th>\n",
       "      <th>Transaction ID</th>\n",
       "      <th>Date</th>\n",
       "      <th>Customer ID</th>\n",
       "      <th>Gender</th>\n",
       "      <th>Age</th>\n",
       "      <th>Product Category</th>\n",
       "      <th>Quantity</th>\n",
       "      <th>Price per Unit</th>\n",
       "      <th>Total Amount</th>\n",
       "    </tr>\n",
       "  </thead>\n",
       "  <tbody>\n",
       "    <tr>\n",
       "      <th>0</th>\n",
       "      <td>1</td>\n",
       "      <td>2023-11-24</td>\n",
       "      <td>CUST001</td>\n",
       "      <td>Male</td>\n",
       "      <td>34</td>\n",
       "      <td>Beauty</td>\n",
       "      <td>3</td>\n",
       "      <td>50</td>\n",
       "      <td>150</td>\n",
       "    </tr>\n",
       "    <tr>\n",
       "      <th>1</th>\n",
       "      <td>2</td>\n",
       "      <td>2023-02-27</td>\n",
       "      <td>CUST002</td>\n",
       "      <td>Female</td>\n",
       "      <td>26</td>\n",
       "      <td>Clothing</td>\n",
       "      <td>2</td>\n",
       "      <td>500</td>\n",
       "      <td>1000</td>\n",
       "    </tr>\n",
       "    <tr>\n",
       "      <th>2</th>\n",
       "      <td>3</td>\n",
       "      <td>2023-01-13</td>\n",
       "      <td>CUST003</td>\n",
       "      <td>Male</td>\n",
       "      <td>50</td>\n",
       "      <td>Electronics</td>\n",
       "      <td>1</td>\n",
       "      <td>30</td>\n",
       "      <td>30</td>\n",
       "    </tr>\n",
       "    <tr>\n",
       "      <th>3</th>\n",
       "      <td>4</td>\n",
       "      <td>2023-05-21</td>\n",
       "      <td>CUST004</td>\n",
       "      <td>Male</td>\n",
       "      <td>37</td>\n",
       "      <td>Clothing</td>\n",
       "      <td>1</td>\n",
       "      <td>500</td>\n",
       "      <td>500</td>\n",
       "    </tr>\n",
       "    <tr>\n",
       "      <th>4</th>\n",
       "      <td>5</td>\n",
       "      <td>2023-05-06</td>\n",
       "      <td>CUST005</td>\n",
       "      <td>Male</td>\n",
       "      <td>30</td>\n",
       "      <td>Beauty</td>\n",
       "      <td>2</td>\n",
       "      <td>50</td>\n",
       "      <td>100</td>\n",
       "    </tr>\n",
       "  </tbody>\n",
       "</table>\n",
       "</div>"
      ],
      "text/plain": [
       "   Transaction ID        Date Customer ID  Gender  Age Product Category  \\\n",
       "0               1  2023-11-24     CUST001    Male   34           Beauty   \n",
       "1               2  2023-02-27     CUST002  Female   26         Clothing   \n",
       "2               3  2023-01-13     CUST003    Male   50      Electronics   \n",
       "3               4  2023-05-21     CUST004    Male   37         Clothing   \n",
       "4               5  2023-05-06     CUST005    Male   30           Beauty   \n",
       "\n",
       "   Quantity  Price per Unit  Total Amount  \n",
       "0         3              50           150  \n",
       "1         2             500          1000  \n",
       "2         1              30            30  \n",
       "3         1             500           500  \n",
       "4         2              50           100  "
      ]
     },
     "execution_count": 11,
     "metadata": {},
     "output_type": "execute_result"
    },
    {
     "ename": "",
     "evalue": "",
     "output_type": "error",
     "traceback": [
      "\u001b[1;31mThe Kernel crashed while executing code in the current cell or a previous cell. \n",
      "\u001b[1;31mPlease review the code in the cell(s) to identify a possible cause of the failure. \n",
      "\u001b[1;31mClick <a href='https://aka.ms/vscodeJupyterKernelCrash'>here</a> for more info. \n",
      "\u001b[1;31mView Jupyter <a href='command:jupyter.viewOutput'>log</a> for further details."
     ]
    }
   ],
   "source": [
    "import pandas as pd\n",
    "df = pd.read_csv(r'C:\\Users\\Gonzalo\\OneDrive\\Documentos\\repos\\mitic-data-science-gonza\\data\\retail_sales_dataset.csv')\n",
    "df.head()"
   ]
  },
  {
   "cell_type": "code",
   "execution_count": 2,
   "metadata": {},
   "outputs": [
    {
     "name": "stdout",
     "output_type": "stream",
     "text": [
      "        Date Sales Season\n",
      "0 2023-11-24         Fall\n",
      "1 2023-02-27       Winter\n",
      "2 2023-01-13       Winter\n",
      "3 2023-05-21       Spring\n",
      "4 2023-05-06       Spring\n"
     ]
    }
   ],
   "source": [
    "# Convertir la columna 'Date' en un tipo de dato datetime (si aún no lo es)\n",
    "df['Date'] = pd.to_datetime(df['Date'])\n",
    "\n",
    "# Definir una función para asignar la temporada en base al mes\n",
    "def asignar_temporada(mes):\n",
    "    if mes in [3, 4, 5]:\n",
    "        return 'Spring'\n",
    "    elif mes in [6, 7, 8]:\n",
    "        return 'Summer'\n",
    "    elif mes in [9, 10, 11]:\n",
    "        return 'Fall'\n",
    "    else:\n",
    "        return 'Winter'\n",
    "\n",
    "# Aplicar la función para crear la nueva columna 'Sales Season'\n",
    "df['Sales Season'] = df['Date'].dt.month.apply(asignar_temporada)\n",
    "\n",
    "# Mostrar los primeros registros para verificar\n",
    "print(df[['Date', 'Sales Season']].head())\n"
   ]
  },
  {
   "cell_type": "code",
   "execution_count": 3,
   "metadata": {},
   "outputs": [],
   "source": [
    "## Normalizar las ventas\n",
    "max_value = df['Total Amount'].max()\n",
    "min_value = df['Total Amount'].min()\n",
    "df['norm_sales'] = df['Total Amount'].apply(lambda x: (x - min_value) / (max_value - min_value))\n"
   ]
  },
  {
   "cell_type": "markdown",
   "metadata": {},
   "source": [
    "Clasifica los datos: Crea una columna que clasifique las ventas en categorías significativas (e.g., ‘Alta’, ‘Media’, ‘Baja’)."
   ]
  },
  {
   "cell_type": "code",
   "execution_count": 4,
   "metadata": {},
   "outputs": [
    {
     "data": {
      "text/html": [
       "<div>\n",
       "<style scoped>\n",
       "    .dataframe tbody tr th:only-of-type {\n",
       "        vertical-align: middle;\n",
       "    }\n",
       "\n",
       "    .dataframe tbody tr th {\n",
       "        vertical-align: top;\n",
       "    }\n",
       "\n",
       "    .dataframe thead th {\n",
       "        text-align: right;\n",
       "    }\n",
       "</style>\n",
       "<table border=\"1\" class=\"dataframe\">\n",
       "  <thead>\n",
       "    <tr style=\"text-align: right;\">\n",
       "      <th></th>\n",
       "      <th>Total Amount</th>\n",
       "      <th>norm_sales</th>\n",
       "      <th>sales_category</th>\n",
       "    </tr>\n",
       "  </thead>\n",
       "  <tbody>\n",
       "    <tr>\n",
       "      <th>0</th>\n",
       "      <td>150</td>\n",
       "      <td>0.063291</td>\n",
       "      <td>Moderate</td>\n",
       "    </tr>\n",
       "    <tr>\n",
       "      <th>1</th>\n",
       "      <td>1000</td>\n",
       "      <td>0.493671</td>\n",
       "      <td>High</td>\n",
       "    </tr>\n",
       "    <tr>\n",
       "      <th>2</th>\n",
       "      <td>30</td>\n",
       "      <td>0.002532</td>\n",
       "      <td>Low</td>\n",
       "    </tr>\n",
       "    <tr>\n",
       "      <th>3</th>\n",
       "      <td>500</td>\n",
       "      <td>0.240506</td>\n",
       "      <td>Moderate</td>\n",
       "    </tr>\n",
       "    <tr>\n",
       "      <th>4</th>\n",
       "      <td>100</td>\n",
       "      <td>0.037975</td>\n",
       "      <td>Moderate</td>\n",
       "    </tr>\n",
       "    <tr>\n",
       "      <th>...</th>\n",
       "      <td>...</td>\n",
       "      <td>...</td>\n",
       "      <td>...</td>\n",
       "    </tr>\n",
       "    <tr>\n",
       "      <th>995</th>\n",
       "      <td>50</td>\n",
       "      <td>0.012658</td>\n",
       "      <td>Low</td>\n",
       "    </tr>\n",
       "    <tr>\n",
       "      <th>996</th>\n",
       "      <td>90</td>\n",
       "      <td>0.032911</td>\n",
       "      <td>Moderate</td>\n",
       "    </tr>\n",
       "    <tr>\n",
       "      <th>997</th>\n",
       "      <td>100</td>\n",
       "      <td>0.037975</td>\n",
       "      <td>Moderate</td>\n",
       "    </tr>\n",
       "    <tr>\n",
       "      <th>998</th>\n",
       "      <td>150</td>\n",
       "      <td>0.063291</td>\n",
       "      <td>Moderate</td>\n",
       "    </tr>\n",
       "    <tr>\n",
       "      <th>999</th>\n",
       "      <td>120</td>\n",
       "      <td>0.048101</td>\n",
       "      <td>Moderate</td>\n",
       "    </tr>\n",
       "  </tbody>\n",
       "</table>\n",
       "<p>1000 rows × 3 columns</p>\n",
       "</div>"
      ],
      "text/plain": [
       "     Total Amount  norm_sales sales_category\n",
       "0             150    0.063291       Moderate\n",
       "1            1000    0.493671           High\n",
       "2              30    0.002532            Low\n",
       "3             500    0.240506       Moderate\n",
       "4             100    0.037975       Moderate\n",
       "..            ...         ...            ...\n",
       "995            50    0.012658            Low\n",
       "996            90    0.032911       Moderate\n",
       "997           100    0.037975       Moderate\n",
       "998           150    0.063291       Moderate\n",
       "999           120    0.048101       Moderate\n",
       "\n",
       "[1000 rows x 3 columns]"
      ]
     },
     "execution_count": 4,
     "metadata": {},
     "output_type": "execute_result"
    }
   ],
   "source": [
    "# Definir categorias basado en cuartiles\n",
    "def categorize(value, q1, q3):\n",
    "    if value <= q1:\n",
    "        return 'Low'\n",
    "    elif value <= q3:\n",
    "        return 'Moderate'\n",
    "    else:\n",
    "        return 'High'\n",
    "q1 = df['norm_sales'].quantile(0.25)\n",
    "q3 = df['norm_sales'].quantile(0.75)\n",
    "\n",
    "df['sales_category'] = df['norm_sales'].apply(categorize, args=(q1, q3))\n",
    "df[['Total Amount', 'norm_sales', 'sales_category']]"
   ]
  },
  {
   "cell_type": "markdown",
   "metadata": {},
   "source": [
    "### Agrupación y Agregación"
   ]
  },
  {
   "cell_type": "markdown",
   "metadata": {},
   "source": [
    "Agrupación por múltiples columnas: Realiza agrupaciones por categorías como producto y tienda, producto y mes, etc"
   ]
  },
  {
   "cell_type": "code",
   "execution_count": 5,
   "metadata": {},
   "outputs": [
    {
     "data": {
      "text/plain": [
       "(Product Category  Gender  Transaction ID  Date        Customer ID  Age  Quantity  Price per Unit  Total Amount  Sales Season  norm_sales  sales_category\n",
       " Beauty            Female  6               2023-04-25  CUST006      45   1         30              30            Spring        0.002532    Low               1\n",
       "                           21              2023-01-14  CUST021      50   1         500             500           Winter        0.240506    Moderate          1\n",
       "                           25              2023-12-26  CUST025      64   1         50              50            Winter        0.012658    Low               1\n",
       "                           27              2023-08-03  CUST027      38   2         25              50            Summer        0.012658    Low               1\n",
       "                           28              2023-04-23  CUST028      43   1         500             500           Spring        0.240506    Moderate          1\n",
       "                                                                                                                                                            ..\n",
       " Electronics       Male    946             2023-05-08  CUST946      62   4         500             2000          Spring        1.000000    High              1\n",
       "                           958             2023-06-02  CUST958      62   2         25              50            Summer        0.012658    Low               1\n",
       "                           966             2023-02-20  CUST966      60   2         500             1000          Winter        0.493671    High              1\n",
       "                           970             2023-05-16  CUST970      59   4         500             2000          Spring        1.000000    High              1\n",
       "                           1000            2023-04-12  CUST1000     47   4         30              120           Spring        0.048101    Moderate          1\n",
       " Name: count, Length: 1000, dtype: int64,\n",
       " Product Category  Sales Season  Transaction ID  Date        Customer ID  Gender  Age  Quantity  Price per Unit  Total Amount  norm_sales  sales_category\n",
       " Beauty            Fall          1               2023-11-24  CUST001      Male    34   3         50              150           0.063291    Moderate          1\n",
       "                                 12              2023-10-30  CUST012      Male    35   3         25              75            0.025316    Moderate          1\n",
       "                                 30              2023-10-29  CUST030      Female  39   3         300             900           0.443038    Moderate          1\n",
       "                                 47              2023-11-06  CUST047      Female  40   3         500             1500          0.746835    High              1\n",
       "                                 51              2023-10-02  CUST051      Male    27   3         25              75            0.025316    Moderate          1\n",
       "                                                                                                                                                            ..\n",
       " Electronics       Winter        971             2023-12-05  CUST971      Female  27   4         50              200           0.088608    Moderate          1\n",
       "                                 977             2023-02-08  CUST977      Female  35   3         25              75            0.025316    Moderate          1\n",
       "                                 989             2023-12-28  CUST989      Female  44   1         25              25            0.000000    Low               1\n",
       "                                 993             2023-02-06  CUST993      Female  48   3         50              150           0.063291    Moderate          1\n",
       "                                 999             2023-12-05  CUST999      Female  36   3         50              150           0.063291    Moderate          1\n",
       " Name: count, Length: 1000, dtype: int64)"
      ]
     },
     "execution_count": 5,
     "metadata": {},
     "output_type": "execute_result"
    }
   ],
   "source": [
    "df_producto_genero = df.groupby(['Product Category', 'Gender']).value_counts()\n",
    "df_product_season = df.groupby(['Product Category', 'Sales Season']).value_counts()\n",
    "df_producto_genero, df_product_season"
   ]
  },
  {
   "cell_type": "markdown",
   "metadata": {},
   "source": [
    "Aplicar funciones de agregación: Utiliza funciones como sum, mean, count, min, max, std, y var para obtener estadísticas descriptivas de cada grupo."
   ]
  },
  {
   "cell_type": "code",
   "execution_count": 6,
   "metadata": {},
   "outputs": [
    {
     "name": "stdout",
     "output_type": "stream",
     "text": [
      "                  Total_Suma    Promedio  Conteo  Minimo  Maximo  Desviacion  \\\n",
      "Product Category                                                               \n",
      "Beauty                143515  467.475570     307      25    2000  563.612788   \n",
      "Clothing              155580  443.247863     351      25    2000  550.695917   \n",
      "Electronics           156905  458.786550     342      25    2000  567.540150   \n",
      "\n",
      "                       Varianza  \n",
      "Product Category                 \n",
      "Beauty            317659.374401  \n",
      "Clothing          303265.992674  \n",
      "Electronics       322101.822341  \n"
     ]
    }
   ],
   "source": [
    "# Agrupar por la categoría de producto y aplicar funciones de agregación\n",
    "estadisticas_ventas = df.groupby('Product Category')['Total Amount'].agg(\n",
    "    Total_Suma='sum',\n",
    "    Promedio='mean',\n",
    "    Conteo='count',\n",
    "    Minimo='min',\n",
    "    Maximo='max',\n",
    "    Desviacion='std',\n",
    "    Varianza='var'\n",
    ")\n",
    "\n",
    "print(estadisticas_ventas)\n"
   ]
  },
  {
   "cell_type": "markdown",
   "metadata": {},
   "source": [
    "### Análisis Personalizado con apply\n",
    "Función personalizada: Aplica funciones personalizadas para realizar análisis específicos que no se pueden lograr con las funciones de agregación estándar."
   ]
  },
  {
   "cell_type": "code",
   "execution_count": 8,
   "metadata": {},
   "outputs": [
    {
     "name": "stdout",
     "output_type": "stream",
     "text": [
      "                  Total_Suma    Promedio  Coef_Variacion\n",
      "Product Category                                        \n",
      "Beauty                143515  467.475570        1.205652\n",
      "Clothing              155580  443.247863        1.242411\n",
      "Electronics           156905  458.786550        1.237046\n"
     ]
    }
   ],
   "source": [
    "# Definir una función personalizada para calcular el Coeficiente de Variación\n",
    "def coeficiente_variacion(series):\n",
    "    return series.std() / series.mean()\n",
    "\n",
    "# Aplicar la función personalizada usando el método agg\n",
    "analisis_personalizado = df.groupby('Product Category')['Total Amount'].agg(\n",
    "    Total_Suma='sum',\n",
    "    Promedio='mean',\n",
    "    Coef_Variacion=coeficiente_variacion\n",
    ")\n",
    "\n",
    "print(analisis_personalizado)\n"
   ]
  },
  {
   "cell_type": "markdown",
   "metadata": {},
   "source": [
    "Ejemplo de uso avanzado: Calcula la desviación de cada venta respecto a la media de su grupo."
   ]
  },
  {
   "cell_type": "code",
   "execution_count": 10,
   "metadata": {},
   "outputs": [
    {
     "name": "stdout",
     "output_type": "stream",
     "text": [
      "  Product Category  Total Amount  Desviacion_Venta\n",
      "0           Beauty           150       -317.475570\n",
      "1         Clothing          1000        556.752137\n",
      "2      Electronics            30       -428.786550\n",
      "3         Clothing           500         56.752137\n",
      "4           Beauty           100       -367.475570\n"
     ]
    }
   ],
   "source": [
    "# Agrupar por categoría de producto y calcular la media de cada grupo\n",
    "media_por_grupo = df.groupby('Product Category')['Total Amount'].transform('mean')\n",
    "\n",
    "# Calcular la desviación de cada venta respecto a la media de su grupo\n",
    "df['Desviacion_Venta'] = df['Total Amount'] - media_por_grupo\n",
    "\n",
    "print(df[['Product Category', 'Total Amount', 'Desviacion_Venta']].head())\n",
    "\n"
   ]
  },
  {
   "cell_type": "code",
   "execution_count": null,
   "metadata": {},
   "outputs": [],
   "source": [
    "df.to"
   ]
  }
 ],
 "metadata": {
  "kernelspec": {
   "display_name": "mitic-data-science-setiembre-2024",
   "language": "python",
   "name": "python3"
  },
  "language_info": {
   "codemirror_mode": {
    "name": "ipython",
    "version": 3
   },
   "file_extension": ".py",
   "mimetype": "text/x-python",
   "name": "python",
   "nbconvert_exporter": "python",
   "pygments_lexer": "ipython3",
   "version": "3.12.7"
  }
 },
 "nbformat": 4,
 "nbformat_minor": 2
}
