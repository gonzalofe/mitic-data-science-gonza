{
 "cells": [
  {
   "cell_type": "markdown",
   "metadata": {},
   "source": [
    " Descripción del Problema: Imagina que estás trabajando como analista de datos para una empresa que recopila información sobre las ventas diarias de diferentes productos en varias tiendas. Necesitas analizar estos datos para extraer información útil y presentar un resumen de las ventas."
   ]
  },
  {
   "cell_type": "markdown",
   "metadata": {},
   "source": [
    "Requisitos del Sistema:\n",
    "El programa debe generar datos de ventas de manera aleatoria para 10 productos diferentes en 5 tiendas distintas durante 7 días (una semana).\n",
    "Los datos deben estar almacenados en un array de NumPy de 3 dimensiones (productos, tiendas, días).\n",
    "Debes calcular y mostrar la siguiente información:\n",
    "Total de ventas por producto a lo largo de la semana.\n",
    "Total de ventas por tienda a lo largo de la semana.\n",
    "Promedio de ventas por producto por día.\n",
    "Promedio de ventas por tienda por día.\n",
    "Producto con mayor y menor ventas totales en la semana.\n",
    "Tienda con mayor y menor ventas totales en la semana."
   ]
  },
  {
   "cell_type": "markdown",
   "metadata": {},
   "source": [
    "Detalles Específicos:\n",
    "Genera los datos de ventas aleatorias usando np.random.randint, con valores entre 0 y 100.\n",
    "Usa funciones de NumPy para calcular las sumas y promedios.\n",
    "Maneja posibles errores o valores inesperados.\n",
    "Presenta los resultados de manera clara y estructurada.\n",
    "Consideraciones Adicionales:\n",
    "Organiza tu código utilizando funciones para cada una de las tareas principales.\n",
    "Usa comentarios para explicar cada sección de tu código.\n",
    "Asegúrate de que el código sea robusto y maneje casos en los que los datos generados puedan estar fuera de los rangos esperados.\n"
   ]
  },
  {
   "cell_type": "markdown",
   "metadata": {},
   "source": [
    "Se definen funciones para analizar los datos"
   ]
  },
  {
   "cell_type": "code",
   "execution_count": 2,
   "metadata": {},
   "outputs": [],
   "source": [
    "# Se importa el paquete numpy para analizar los datps\n",
    "import numpy as np\n",
    "\n",
    "def generar_datos_ventas(productos, tiendas, dias):\n",
    "    # Genera datos de ventas aleatorias para el número de productos, tiendas y días especificados\n",
    "    return np.random.randint(0, 101, (productos, tiendas, dias))\n",
    "\n",
    "def calcular_totales_ventas_por_producto(datos):\n",
    "    # Calcula el total de ventas por producto a lo largo de la semana\n",
    "    return np.sum(datos, axis=(1, 2))\n",
    "\n",
    "def calcular_totales_ventas_por_tienda(datos):\n",
    "    # Calcula el total de ventas por tienda a lo largo de la semana\n",
    "    return np.sum(datos, axis=(0, 2))\n",
    "\n",
    "def calcular_promedio_ventas_por_producto(datos):\n",
    "    # Calcula el promedio de ventas por producto por día\n",
    "    return np.mean(datos, axis=(1, 2))\n",
    "\n",
    "def calcular_promedio_ventas_por_tienda(datos):\n",
    "    # Calcula el promedio de ventas por tienda por día\n",
    "    return np.mean(datos, axis=(0, 2))\n",
    "\n",
    "def encontrar_producto_mayor_menor_ventas(totales_por_producto):\n",
    "    # Encuentra el producto con mayor y menor ventas totales en la semana\n",
    "    producto_mayor_ventas = np.argmax(totales_por_producto)\n",
    "    producto_menor_ventas = np.argmin(totales_por_producto)\n",
    "    return producto_mayor_ventas, producto_menor_ventas\n",
    "\n",
    "def encontrar_tienda_mayor_menor_ventas(totales_por_tienda):\n",
    "    # Encuentra la tienda con mayor y menor ventas totales en la semana\n",
    "    tienda_mayor_ventas = np.argmax(totales_por_tienda)\n",
    "    tienda_menor_ventas = np.argmin(totales_por_tienda)\n",
    "    return tienda_mayor_ventas, tienda_menor_ventas"
   ]
  },
  {
   "cell_type": "markdown",
   "metadata": {},
   "source": [
    "Se procede a ejecutar la funciones"
   ]
  },
  {
   "cell_type": "code",
   "execution_count": 3,
   "metadata": {},
   "outputs": [],
   "source": [
    "\n",
    "\n",
    "# Se definen las dimensiones\n",
    "productos = 10\n",
    "tiendas = 5\n",
    "dias = 7\n",
    "\n",
    "# Genera los datos de ventas\n",
    "datos = generar_datos_ventas(productos, tiendas, dias)\n",
    "\n",
    "# Calcula los totales y promedios\n",
    "totales_por_producto = calcular_totales_ventas_por_producto(datos)\n",
    "totales_por_tienda = calcular_totales_ventas_por_tienda(datos)\n",
    "promedio_por_producto = calcular_promedio_ventas_por_producto(datos)\n",
    "promedio_por_tienda = calcular_promedio_ventas_por_tienda(datos)\n",
    "\n",
    "# Encuentra el producto y la tienda con mayor y menor ventas\n",
    "producto_mayor_ventas, producto_menor_ventas = encontrar_producto_mayor_menor_ventas(totales_por_producto)\n",
    "tienda_mayor_ventas, tienda_menor_ventas = encontrar_tienda_mayor_menor_ventas(totales_por_tienda)\n",
    "\n"
   ]
  },
  {
   "cell_type": "markdown",
   "metadata": {},
   "source": [
    "Impresión de resultados"
   ]
  },
  {
   "cell_type": "code",
   "execution_count": 4,
   "metadata": {},
   "outputs": [
    {
     "name": "stdout",
     "output_type": "stream",
     "text": [
      "Total de ventas por producto a lo largo de la semana: [1932 1918 1770 1656 2046 1541 1604 1549 1944 1689]\n",
      "Total de ventas por tienda a lo largo de la semana: [3713 3524 3426 3499 3487]\n",
      "Promedio de ventas por producto por día: [55.2        54.8        50.57142857 47.31428571 58.45714286 44.02857143\n",
      " 45.82857143 44.25714286 55.54285714 48.25714286]\n",
      "Promedio de ventas por tienda por día: [53.04285714 50.34285714 48.94285714 49.98571429 49.81428571]\n",
      "Producto con mayor ventas: Producto 4\n",
      "Producto con menor ventas: Producto 5\n",
      "Tienda con mayor ventas: Tienda 0\n",
      "Tienda con menor ventas: Tienda 2\n"
     ]
    }
   ],
   "source": [
    "# Imprime los resultados\n",
    "print(\"Total de ventas por producto a lo largo de la semana:\", totales_por_producto)\n",
    "print(\"Total de ventas por tienda a lo largo de la semana:\", totales_por_tienda)\n",
    "print(\"Promedio de ventas por producto por día:\", promedio_por_producto)\n",
    "print(\"Promedio de ventas por tienda por día:\", promedio_por_tienda)\n",
    "print(f\"Producto con mayor ventas: Producto {producto_mayor_ventas}\")\n",
    "print(f\"Producto con menor ventas: Producto {producto_menor_ventas}\")\n",
    "print(f\"Tienda con mayor ventas: Tienda {tienda_mayor_ventas}\")\n",
    "print(f\"Tienda con menor ventas: Tienda {tienda_menor_ventas}\")"
   ]
  },
  {
   "cell_type": "markdown",
   "metadata": {},
   "source": [
    "Todas las funciones ejecutan correctamente y de forma logica"
   ]
  }
 ],
 "metadata": {
  "kernelspec": {
   "display_name": "mitic-data-science-setiembre-2024",
   "language": "python",
   "name": "python3"
  },
  "language_info": {
   "codemirror_mode": {
    "name": "ipython",
    "version": 3
   },
   "file_extension": ".py",
   "mimetype": "text/x-python",
   "name": "python",
   "nbconvert_exporter": "python",
   "pygments_lexer": "ipython3",
   "version": "3.12.7"
  }
 },
 "nbformat": 4,
 "nbformat_minor": 2
}
